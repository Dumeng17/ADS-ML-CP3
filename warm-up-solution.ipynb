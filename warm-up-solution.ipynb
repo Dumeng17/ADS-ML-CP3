{
 "cells": [
  {
   "cell_type": "markdown",
   "metadata": {},
   "source": [
    "__03.09.02. Warm-up House Prices - Task 1__\n",
    "* Optional."
   ]
  },
  {
   "cell_type": "code",
   "execution_count": 1,
   "metadata": {},
   "outputs": [
    {
     "name": "stdout",
     "output_type": "stream",
     "text": [
      "(50, 2)\n"
     ]
    },
    {
     "data": {
      "text/html": [
       "<div>\n",
       "<style scoped>\n",
       "    .dataframe tbody tr th:only-of-type {\n",
       "        vertical-align: middle;\n",
       "    }\n",
       "\n",
       "    .dataframe tbody tr th {\n",
       "        vertical-align: top;\n",
       "    }\n",
       "\n",
       "    .dataframe thead th {\n",
       "        text-align: right;\n",
       "    }\n",
       "</style>\n",
       "<table border=\"1\" class=\"dataframe\">\n",
       "  <thead>\n",
       "    <tr style=\"text-align: right;\">\n",
       "      <th></th>\n",
       "      <th>x</th>\n",
       "      <th>y</th>\n",
       "    </tr>\n",
       "  </thead>\n",
       "  <tbody>\n",
       "    <tr>\n",
       "      <th>0</th>\n",
       "      <td>10.529</td>\n",
       "      <td>39.105</td>\n",
       "    </tr>\n",
       "    <tr>\n",
       "      <th>1</th>\n",
       "      <td>10.799</td>\n",
       "      <td>40.584</td>\n",
       "    </tr>\n",
       "    <tr>\n",
       "      <th>2</th>\n",
       "      <td>11.698</td>\n",
       "      <td>39.883</td>\n",
       "    </tr>\n",
       "    <tr>\n",
       "      <th>3</th>\n",
       "      <td>12.851</td>\n",
       "      <td>39.411</td>\n",
       "    </tr>\n",
       "    <tr>\n",
       "      <th>4</th>\n",
       "      <td>13.565</td>\n",
       "      <td>40.760</td>\n",
       "    </tr>\n",
       "  </tbody>\n",
       "</table>\n",
       "</div>"
      ],
      "text/plain": [
       "        x       y\n",
       "0  10.529  39.105\n",
       "1  10.799  40.584\n",
       "2  11.698  39.883\n",
       "3  12.851  39.411\n",
       "4  13.565  40.760"
      ]
     },
     "execution_count": 1,
     "metadata": {},
     "output_type": "execute_result"
    }
   ],
   "source": [
    "import pandas as pd\n",
    "\n",
    "dfrRawData = pd.read_csv('task-1.csv')\n",
    "print(dfrRawData.shape)\n",
    "dfrRawData.head()"
   ]
  },
  {
   "cell_type": "code",
   "execution_count": 2,
   "metadata": {},
   "outputs": [
    {
     "data": {
      "image/png": "[encoded data removed]",
      "text/plain": [
       "<Figure size 432x288 with 1 Axes>"
      ]
     },
     "metadata": {
      "needs_background": "light"
     },
     "output_type": "display_data"
    }
   ],
   "source": [
    "import matplotlib.pyplot as plt\n",
    "%matplotlib inline\n",
    "plt.scatter(dfrRawData.x,dfrRawData.y);"
   ]
  },
  {
   "cell_type": "markdown",
   "metadata": {},
   "source": [
    "__Transformation:__\n",
    "* Try double log transformation:"
   ]
  },
  {
   "cell_type": "code",
   "execution_count": 3,
   "metadata": {},
   "outputs": [],
   "source": [
    "import numpy as np\n",
    "dfrLog10TransformedData = dfrRawData.copy()\n",
    "dfrLog10TransformedData.x = np.log10(dfrLog10TransformedData.x)\n",
    "dfrLog10TransformedData.y = np.log10(dfrLog10TransformedData.y)"
   ]
  },
  {
   "cell_type": "code",
   "execution_count": 4,
   "metadata": {},
   "outputs": [
    {
     "data": {
      "image/png": "[encoded data removed]",
      "text/plain": [
       "<Figure size 432x288 with 1 Axes>"
      ]
     },
     "metadata": {
      "needs_background": "light"
     },
     "output_type": "display_data"
    }
   ],
   "source": [
    "plt.scatter(dfrLog10TransformedData.x,dfrLog10TransformedData.y);"
   ]
  },
  {
   "cell_type": "markdown",
   "metadata": {},
   "source": [
    "__Observation:__\n",
    "* When both variables are log-transformed, the relationship becomes linear."
   ]
  },
  {
   "cell_type": "code",
   "execution_count": 5,
   "metadata": {},
   "outputs": [
    {
     "name": "stdout",
     "output_type": "stream",
     "text": [
      "Slope and intercept: 0.07568043166090933 1.521451149648899\n"
     ]
    }
   ],
   "source": [
    "# linear regression on transformed data\n",
    "from sklearn.linear_model import LinearRegression\n",
    "\n",
    "# create a linear regression object\n",
    "lrgLinearRegressionObject = LinearRegression()\n",
    "\n",
    "# fit the model\n",
    "intRows = -1 # i.e. infer rows as: rows = values / columns (i.e. 'just as many rows as needed')\n",
    "intCols = 1\n",
    "X = dfrLog10TransformedData[\"x\"].values.reshape(intRows, intCols) # reshaping is required\n",
    "y = dfrLog10TransformedData[\"y\"].values\n",
    "lrgLinearRegressionObject.fit(X, y)\n",
    "\n",
    "# print coefficients\n",
    "fltSlope = lrgLinearRegressionObject.coef_[0]\n",
    "fltIntercept = lrgLinearRegressionObject.intercept_\n",
    "print('Slope and intercept:', fltSlope, fltIntercept)"
   ]
  },
  {
   "cell_type": "code",
   "execution_count": 6,
   "metadata": {},
   "outputs": [],
   "source": [
    "# create red line\n",
    "fltXMin = dfrLog10TransformedData[\"x\"].values.min()\n",
    "fltXMax = dfrLog10TransformedData[\"x\"].values.max()\n",
    "intRedLineSteps = 100\n",
    "afltXTrendLineTransformed = np.linspace(fltXMin, fltXMax, intRedLineSteps) \n",
    "afltYTrendLineTransformed = fltSlope * afltXTrendLineTransformed + fltIntercept\n",
    "\n",
    "# re-transform\n",
    "afltXTrendLineRaw = 10 ** afltXTrendLineTransformed\n",
    "afltYTrendLineRaw = 10 ** afltYTrendLineTransformed"
   ]
  },
  {
   "cell_type": "code",
   "execution_count": 7,
   "metadata": {},
   "outputs": [
    {
     "data": {
      "image/png": "[encoded data removed]",
      "text/plain": [
       "<Figure size 432x288 with 1 Axes>"
      ]
     },
     "metadata": {
      "needs_background": "light"
     },
     "output_type": "display_data"
    }
   ],
   "source": [
    "plt.scatter(dfrRawData.x, dfrRawData.y)\n",
    "plt.plot(afltXTrendLineRaw, afltYTrendLineRaw, \"red\")\n",
    "plt.show;"
   ]
  },
  {
   "cell_type": "markdown",
   "metadata": {},
   "source": [
    "__Residuals:__"
   ]
  },
  {
   "cell_type": "code",
   "execution_count": 8,
   "metadata": {},
   "outputs": [],
   "source": [
    "# predict Y, re-transformed\n",
    "afltXTransformed = dfrLog10TransformedData[\"x\"].values\n",
    "afltYPredictedTransformed = fltSlope * afltXTransformed + fltIntercept\n",
    "afltYPredictedRaw = 10 ** afltYPredictedTransformed"
   ]
  },
  {
   "cell_type": "code",
   "execution_count": 9,
   "metadata": {},
   "outputs": [
    {
     "name": "stdout",
     "output_type": "stream",
     "text": [
      "Residual Sum of Squares: 31.273528234366292\n",
      "Mean Squared Error: 0.6254705646873259\n",
      "Root Mean Squared Error: 0.790866970284716\n"
     ]
    }
   ],
   "source": [
    "def RSS(afltTrueY, afltPredictedY): \n",
    "    return np.sum(np.square(afltTrueY - afltPredictedY))\n",
    "def MSE(afltTrueY, afltPredictedY):\n",
    "    intN = y.shape[0]\n",
    "    return RSS(afltTrueY, afltPredictedY) / intN\n",
    "def RMSE(afltTrueY, afltPredictedY):\n",
    "    return MSE(afltTrueY, afltPredictedY) ** 0.5\n",
    "\n",
    "print (\"Residual Sum of Squares:\", RSS(dfrRawData.y, afltYPredictedRaw))\n",
    "print (\"Mean Squared Error:\", MSE(dfrRawData.y, afltYPredictedRaw))\n",
    "print (\"Root Mean Squared Error:\", RMSE(dfrRawData.y, afltYPredictedRaw))"
   ]
  },
  {
   "cell_type": "markdown",
   "metadata": {},
   "source": [
    "__R squared:__"
   ]
  },
  {
   "cell_type": "code",
   "execution_count": 10,
   "metadata": {},
   "outputs": [
    {
     "data": {
      "text/plain": [
       "0.9425752811271102"
      ]
     },
     "execution_count": 10,
     "metadata": {},
     "output_type": "execute_result"
    }
   ],
   "source": [
    "lrgLinearRegressionObject.score(X, y)"
   ]
  },
  {
   "cell_type": "markdown",
   "metadata": {},
   "source": [
    "__Discussion:__\n",
    "* R squared is close to 1.00, thus the model is good.\n",
    "* The model explains 94% of the variation.\n",
    "* The typical deviation between true and predicted y values is around 0.8 units."
   ]
  },
  {
   "cell_type": "markdown",
   "metadata": {},
   "source": [
    "__03.09.02. Warm-up House Prices - Task 2__\n",
    "* Optional."
   ]
  },
  {
   "cell_type": "code",
   "execution_count": 11,
   "metadata": {},
   "outputs": [
    {
     "name": "stdout",
     "output_type": "stream",
     "text": [
      "(1000, 4)\n"
     ]
    },
    {
     "data": {
      "text/html": [
       "<div>\n",
       "<style scoped>\n",
       "    .dataframe tbody tr th:only-of-type {\n",
       "        vertical-align: middle;\n",
       "    }\n",
       "\n",
       "    .dataframe tbody tr th {\n",
       "        vertical-align: top;\n",
       "    }\n",
       "\n",
       "    .dataframe thead th {\n",
       "        text-align: right;\n",
       "    }\n",
       "</style>\n",
       "<table border=\"1\" class=\"dataframe\">\n",
       "  <thead>\n",
       "    <tr style=\"text-align: right;\">\n",
       "      <th></th>\n",
       "      <th>x1</th>\n",
       "      <th>x2</th>\n",
       "      <th>x3</th>\n",
       "      <th>y</th>\n",
       "    </tr>\n",
       "  </thead>\n",
       "  <tbody>\n",
       "    <tr>\n",
       "      <th>0</th>\n",
       "      <td>7.892</td>\n",
       "      <td>318.818</td>\n",
       "      <td>162.970</td>\n",
       "      <td>2112.420</td>\n",
       "    </tr>\n",
       "    <tr>\n",
       "      <th>1</th>\n",
       "      <td>8.830</td>\n",
       "      <td>303.180</td>\n",
       "      <td>181.399</td>\n",
       "      <td>2096.231</td>\n",
       "    </tr>\n",
       "    <tr>\n",
       "      <th>2</th>\n",
       "      <td>13.811</td>\n",
       "      <td>296.231</td>\n",
       "      <td>145.849</td>\n",
       "      <td>2067.045</td>\n",
       "    </tr>\n",
       "    <tr>\n",
       "      <th>3</th>\n",
       "      <td>12.863</td>\n",
       "      <td>325.830</td>\n",
       "      <td>167.996</td>\n",
       "      <td>2269.262</td>\n",
       "    </tr>\n",
       "    <tr>\n",
       "      <th>4</th>\n",
       "      <td>13.698</td>\n",
       "      <td>254.035</td>\n",
       "      <td>171.892</td>\n",
       "      <td>1966.604</td>\n",
       "    </tr>\n",
       "  </tbody>\n",
       "</table>\n",
       "</div>"
      ],
      "text/plain": [
       "       x1       x2       x3         y\n",
       "0   7.892  318.818  162.970  2112.420\n",
       "1   8.830  303.180  181.399  2096.231\n",
       "2  13.811  296.231  145.849  2067.045\n",
       "3  12.863  325.830  167.996  2269.262\n",
       "4  13.698  254.035  171.892  1966.604"
      ]
     },
     "execution_count": 11,
     "metadata": {},
     "output_type": "execute_result"
    }
   ],
   "source": [
    "import pandas as pd\n",
    "\n",
    "dfrRawData = pd.read_csv('task-2.csv')\n",
    "print(dfrRawData.shape)\n",
    "dfrRawData.head()"
   ]
  },
  {
   "cell_type": "code",
   "execution_count": 12,
   "metadata": {},
   "outputs": [
    {
     "data": {
      "image/png": "[encoded data removed]",
      "text/plain": [
       "<Figure size 432x288 with 1 Axes>"
      ]
     },
     "metadata": {
      "needs_background": "light"
     },
     "output_type": "display_data"
    }
   ],
   "source": [
    "import matplotlib.pyplot as plt\n",
    "%matplotlib inline\n",
    "plt.scatter(dfrRawData.x1,dfrRawData.y)\n",
    "plt.show;"
   ]
  },
  {
   "cell_type": "code",
   "execution_count": 13,
   "metadata": {},
   "outputs": [
    {
     "data": {
      "image/png": "[encoded data removed]",
      "text/plain": [
       "<Figure size 432x288 with 1 Axes>"
      ]
     },
     "metadata": {
      "needs_background": "light"
     },
     "output_type": "display_data"
    }
   ],
   "source": [
    "plt.scatter(dfrRawData.x2,dfrRawData.y)\n",
    "plt.show;"
   ]
  },
  {
   "cell_type": "code",
   "execution_count": 14,
   "metadata": {},
   "outputs": [
    {
     "data": {
      "image/png": "[encoded data removed]",
      "text/plain": [
       "<Figure size 432x288 with 1 Axes>"
      ]
     },
     "metadata": {
      "needs_background": "light"
     },
     "output_type": "display_data"
    }
   ],
   "source": [
    "plt.scatter(dfrRawData.x3,dfrRawData.y)\n",
    "plt.show;"
   ]
  },
  {
   "cell_type": "markdown",
   "metadata": {},
   "source": [
    "__Outlier situation:__\n",
    "* All three features seem to contain outliers.\n",
    "* The target variable (y) seems to be regular."
   ]
  },
  {
   "cell_type": "code",
   "execution_count": 15,
   "metadata": {},
   "outputs": [
    {
     "data": {
      "text/plain": [
       "<function matplotlib.pyplot.show(*args, **kw)>"
      ]
     },
     "execution_count": 15,
     "metadata": {},
     "output_type": "execute_result"
    },
    {
     "data": {
      "image/png": "[encoded data removed]",
      "text/plain": [
       "<Figure size 432x288 with 1 Axes>"
      ]
     },
     "metadata": {
      "needs_background": "light"
     },
     "output_type": "display_data"
    }
   ],
   "source": [
    "plt.scatter(dfrRawData.x1,dfrRawData.y)\n",
    "plt.xlim (0,20)\n",
    "plt.show"
   ]
  },
  {
   "cell_type": "code",
   "execution_count": 16,
   "metadata": {},
   "outputs": [
    {
     "data": {
      "text/plain": [
       "<function matplotlib.pyplot.show(*args, **kw)>"
      ]
     },
     "execution_count": 16,
     "metadata": {},
     "output_type": "execute_result"
    },
    {
     "data": {
      "image/png": "[encoded data removed]",
      "text/plain": [
       "<Figure size 432x288 with 1 Axes>"
      ]
     },
     "metadata": {
      "needs_background": "light"
     },
     "output_type": "display_data"
    }
   ],
   "source": [
    "plt.scatter(dfrRawData.x2,dfrRawData.y)\n",
    "plt.xlim (200,400)\n",
    "plt.show"
   ]
  },
  {
   "cell_type": "code",
   "execution_count": 17,
   "metadata": {},
   "outputs": [
    {
     "data": {
      "text/plain": [
       "<function matplotlib.pyplot.show(*args, **kw)>"
      ]
     },
     "execution_count": 17,
     "metadata": {},
     "output_type": "execute_result"
    },
    {
     "data": {
      "image/png": "[encoded data removed]",
      "text/plain": [
       "<Figure size 432x288 with 1 Axes>"
      ]
     },
     "metadata": {
      "needs_background": "light"
     },
     "output_type": "display_data"
    }
   ],
   "source": [
    "plt.scatter(dfrRawData.x3,dfrRawData.y)\n",
    "plt.xlim (135,190)\n",
    "plt.show"
   ]
  },
  {
   "cell_type": "markdown",
   "metadata": {},
   "source": [
    "__Main relationship:__\n",
    "* When suppressing the outliers in X, the relationships seems linear for x1 and x2.\n",
    "* x3 seems not to relate to y.\n",
    "* All in all, a linear model seems reasonable (even for x3)."
   ]
  },
  {
   "cell_type": "markdown",
   "metadata": {},
   "source": [
    "__Side note:__\n",
    "* If using a Jupyter Notebook, make sure to restart your kernel to reset xlim!"
   ]
  },
  {
   "cell_type": "markdown",
   "metadata": {},
   "source": [
    "__Main tasks:__\n",
    "* Fit a linear regression with the outliers.\n",
    "* Fit a __huber regression__ with the outliers.\n",
    "* Fit a linear regression __without__ the outliers."
   ]
  },
  {
   "cell_type": "code",
   "execution_count": 18,
   "metadata": {},
   "outputs": [],
   "source": [
    "# define tasks\n",
    "llstrTasks = [[\"linear\", \"with\"], [\"huber\", \"with\"], [\"linear\", \"without\"]]"
   ]
  },
  {
   "cell_type": "code",
   "execution_count": 19,
   "metadata": {},
   "outputs": [
    {
     "name": "stdout",
     "output_type": "stream",
     "text": [
      "Shapes changing: (1000, 4) --> (952, 4)\n"
     ]
    }
   ],
   "source": [
    "# clean data by z-scores\n",
    "import numpy as np\n",
    "def CleanedByZScore(dfrDataFrame, strColumn: str, blnOutlierCount = False, blnReplaceOutliers = False, fltStandardDeviations = 3.0):\n",
    "    # Cleans a dataframe by z-scores on a specific column. \n",
    "    # - Optionally returns the number of records lost. \n",
    "    # - The number of standard deviations can be adjusted away from the usual factor of 3.\n",
    "    # - Allow for replacement rather than deletion\n",
    "    \n",
    "    # get outliers\n",
    "    fltMean = dfrDataFrame[strColumn].mean()\n",
    "    fltStandardDeviation = dfrDataFrame[strColumn].std()\n",
    "    fltThreshold = fltStandardDeviations * fltStandardDeviation\n",
    "    srsOutliers = np.abs(dfrDataFrame[strColumn] - fltMean) > fltThreshold\n",
    "    intOutlierCount = np.sum(srsOutliers)\n",
    "    \n",
    "    if blnReplaceOutliers:\n",
    "        dfrCleaned = dfrDataFrame.copy()\n",
    "        fltLowBound = fltMean - fltThreshold\n",
    "        fltHighBound = fltMean + fltThreshold\n",
    "        srsOutliersLow = dfrDataFrame[strColumn] < fltLowBound # identify\n",
    "        srsOutliersHigh = dfrDataFrame[strColumn] > fltHighBound\n",
    "        dfrCleaned.loc[srsOutliersLow, strColumn] = fltLowBound # replace\n",
    "        dfrCleaned.loc[srsOutliersHigh, strColumn] = fltHighBound\n",
    "    else:\n",
    "        dfrCleaned = dfrDataFrame[~srsOutliers]    \n",
    "        \n",
    "    # finalize\n",
    "    if blnOutlierCount:\n",
    "        return [dfrCleaned, intOutlierCount]\n",
    "    else:\n",
    "        return dfrCleaned      \n",
    "\n",
    "dfrOutliersCleaned = dfrRawData.copy()\n",
    "for strFeature in [\"x1\",\"x2\",\"x3\"]:\n",
    "    dfrOutliersCleaned = CleanedByZScore(dfrOutliersCleaned, strFeature) \n",
    "    \n",
    "print(\"Shapes changing:\", dfrRawData.shape, \"-->\", dfrOutliersCleaned.shape)    "
   ]
  },
  {
   "cell_type": "code",
   "execution_count": 20,
   "metadata": {},
   "outputs": [],
   "source": [
    "from sklearn.model_selection import train_test_split\n",
    "from sklearn.linear_model import SGDRegressor # SGD = Stochastic Gradient Descent\n",
    "from sklearn.preprocessing import StandardScaler\n",
    "# SGDRegressor?"
   ]
  },
  {
   "cell_type": "code",
   "execution_count": 21,
   "metadata": {},
   "outputs": [],
   "source": [
    "def MAE(y, y_pred):\n",
    "    return np.mean(np.abs(y - y_pred))"
   ]
  },
  {
   "cell_type": "code",
   "execution_count": 22,
   "metadata": {},
   "outputs": [
    {
     "name": "stdout",
     "output_type": "stream",
     "text": [
      "GENERAL INFORMATION\n",
      "Huber epsilon: 1.35\n",
      "SGD iterations: 100000.0\n",
      "Train set: 80.0%\n",
      "Test set: 20.0%\n",
      "\n",
      "RESULTS\n",
      "Regression type: linear regression with outliers\n",
      "Sample size: 1000\n",
      "Slopes: [28.06624588 51.71109338 -7.44964089]\n",
      "Intercept: [2205.43515795]\n",
      "MAE: 104.657\n",
      "\n",
      "RESULTS\n",
      "Regression type: huber regression with outliers\n",
      "Sample size: 1000\n",
      "Slopes: [138.98488053 192.50770136   7.63755774]\n",
      "Intercept: [2210.37587083]\n",
      "MAE: 76.348\n",
      "\n",
      "RESULTS\n",
      "Regression type: linear regression without outliers\n",
      "Sample size: 952\n",
      "Slopes: [ 85.96055984 116.33040644  24.80020206]\n",
      "Intercept: [2205.35508005]\n",
      "MAE: 61.029\n"
     ]
    }
   ],
   "source": [
    "cfltTypicalGoodEpsilon = 1.35\n",
    "cfltProportionTrainSet = 0.8\n",
    "fltProportionTestSet = 1 - cfltProportionTrainSet\n",
    "intSgdIterations = 1e5\n",
    "\n",
    "print(\"GENERAL INFORMATION\")\n",
    "print(\"Huber epsilon:\", cfltTypicalGoodEpsilon)\n",
    "print(\"SGD iterations:\", intSgdIterations)\n",
    "print(\"Train set: {:.1f}%\".format(cfltProportionTrainSet * 100))\n",
    "print(\"Test set: {:.1f}%\".format(fltProportionTestSet * 100))\n",
    "\n",
    "for strRegressionType, strOutlierType in llstrTasks:\n",
    "    \n",
    "    # select data\n",
    "    if strOutlierType == \"with\":\n",
    "        dfrDataUsed = dfrRawData.copy()\n",
    "    else:\n",
    "        dfrDataUsed = dfrOutliersCleaned.copy()\n",
    "    \n",
    "    # select regression method\n",
    "    if strRegressionType == \"linear\":\n",
    "        strMethod = \"squared_loss\"\n",
    "    elif strRegressionType == \"huber\":\n",
    "        strMethod = \"huber\"\n",
    "    else:\n",
    "        print(\"Unknown regression type:\", strRegressionType)\n",
    "        \n",
    "    # get X and y\n",
    "    X = dfrDataUsed.drop([\"y\"], axis=1).values\n",
    "    y = dfrDataUsed[\"y\"].values\n",
    "    \n",
    "    # split data\n",
    "    x_tr, x_te, y_tr, y_te = train_test_split(X, y, \n",
    "          train_size=cfltProportionTrainSet, \n",
    "          test_size=fltProportionTestSet,\n",
    "          random_state=0)  \n",
    "    \n",
    "    # scale features as they have different distributions \n",
    "    objStandardScaler = StandardScaler()\n",
    "    x_tr_scaled = objStandardScaler.fit_transform(x_tr)\n",
    "    x_te_scaled = objStandardScaler.transform(x_te)\n",
    "    \n",
    "    # calculate regression\n",
    "    objSgdRegressor = SGDRegressor(loss=strMethod, penalty='none', \n",
    "                                   epsilon=cfltTypicalGoodEpsilon, \n",
    "                                   max_iter=intSgdIterations, \n",
    "                                   tol=1e-6)    \n",
    "    objSgdRegressor.fit(x_tr_scaled, y_tr)\n",
    "\n",
    "    # predict within test set\n",
    "    y_te_pred = objSgdRegressor.predict(x_te_scaled) \n",
    "    \n",
    "    # calculate the test MAE \n",
    "    fltMae = MAE(y_te, y_te_pred)\n",
    "    \n",
    "    # feedback\n",
    "    print(\"\\nRESULTS\")\n",
    "    print(\"Regression type:\", strRegressionType, \"regression\", strOutlierType, \"outliers\")\n",
    "    print(\"Sample size:\", dfrDataUsed.shape[0])\n",
    "    print(\"Slopes:\", objSgdRegressor.coef_)\n",
    "    print(\"Intercept:\", objSgdRegressor.intercept_)\n",
    "    print(\"MAE: {:.3f}\".format(fltMae))   "
   ]
  },
  {
   "cell_type": "markdown",
   "metadata": {},
   "source": [
    "__Final comments:__\n",
    "* Scaling is required, at least for normal linear analyses.\n",
    "* MAE is best with analysis 3: linear regression without outliers."
   ]
  }
 ],
 "metadata": {
  "kernelspec": {
   "display_name": "Python 3",
   "language": "python",
   "name": "python3"
  },
  "language_info": {
   "codemirror_mode": {
    "name": "ipython",
    "version": 3
   },
   "file_extension": ".py",
   "mimetype": "text/x-python",
   "name": "python",
   "nbconvert_exporter": "python",
   "pygments_lexer": "ipython3",
   "version": "3.6.13"
  }
 },
 "nbformat": 4,
 "nbformat_minor": 4
}
